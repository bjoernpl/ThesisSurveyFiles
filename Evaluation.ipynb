{
 "cells": [
  {
   "cell_type": "markdown",
   "metadata": {},
   "source": [
    "# Evaluate Naturalness Survey"
   ]
  },
  {
   "cell_type": "code",
   "execution_count": 1,
   "metadata": {},
   "outputs": [],
   "source": [
    "import numpy as np\n",
    "import pandas as pd\n",
    "import scipy.stats as st\n",
    "import seaborn as sns "
   ]
  },
  {
   "cell_type": "code",
   "execution_count": 2,
   "metadata": {},
   "outputs": [],
   "source": [
    "df = pd.read_csv(\"Batch_4365949_batch_results_2.csv\")"
   ]
  },
  {
   "cell_type": "markdown",
   "metadata": {},
   "source": [
    "## Convert rating to numbers"
   ]
  },
  {
   "cell_type": "code",
   "execution_count": 3,
   "metadata": {},
   "outputs": [],
   "source": [
    "label_to_num = {\n",
    "    \"Excellent - Completely natural speech\" : 5,\n",
    "    \"Good - Mostly natural speech\": 4,\n",
    "    \"Fair - Equally natural and unnatural speech\": 3,\n",
    "    \"Poor - Mostly unnatural speech\" : 2,\n",
    "    \"Bad - Completely unnatural speech\" : 1\n",
    "}"
   ]
  },
  {
   "cell_type": "code",
   "execution_count": 4,
   "metadata": {},
   "outputs": [],
   "source": [
    "df_copy = df.copy()\n",
    "df_copy[\"naturalness\"] = df_copy[\"Answer.audio-naturalness.label\"].apply(lambda x: label_to_num[x])"
   ]
  },
  {
   "cell_type": "markdown",
   "metadata": {},
   "source": [
    "## Seperate our results from Face2Speech results"
   ]
  },
  {
   "cell_type": "code",
   "execution_count": 11,
   "metadata": {},
   "outputs": [
    {
     "data": {
      "text/html": [
       "<div>\n",
       "<style scoped>\n",
       "    .dataframe tbody tr th:only-of-type {\n",
       "        vertical-align: middle;\n",
       "    }\n",
       "\n",
       "    .dataframe tbody tr th {\n",
       "        vertical-align: top;\n",
       "    }\n",
       "\n",
       "    .dataframe thead th {\n",
       "        text-align: right;\n",
       "    }\n",
       "</style>\n",
       "<table border=\"1\" class=\"dataframe\">\n",
       "  <thead>\n",
       "    <tr style=\"text-align: right;\">\n",
       "      <th></th>\n",
       "      <th>ours</th>\n",
       "      <th>theirs</th>\n",
       "    </tr>\n",
       "  </thead>\n",
       "  <tbody>\n",
       "    <tr>\n",
       "      <th>1</th>\n",
       "      <td>9</td>\n",
       "      <td>23</td>\n",
       "    </tr>\n",
       "    <tr>\n",
       "      <th>2</th>\n",
       "      <td>41</td>\n",
       "      <td>78</td>\n",
       "    </tr>\n",
       "    <tr>\n",
       "      <th>3</th>\n",
       "      <td>181</td>\n",
       "      <td>186</td>\n",
       "    </tr>\n",
       "    <tr>\n",
       "      <th>4</th>\n",
       "      <td>295</td>\n",
       "      <td>255</td>\n",
       "    </tr>\n",
       "    <tr>\n",
       "      <th>5</th>\n",
       "      <td>87</td>\n",
       "      <td>75</td>\n",
       "    </tr>\n",
       "  </tbody>\n",
       "</table>\n",
       "</div>"
      ],
      "text/plain": [
       "   ours  theirs\n",
       "1     9      23\n",
       "2    41      78\n",
       "3   181     186\n",
       "4   295     255\n",
       "5    87      75"
      ]
     },
     "execution_count": 11,
     "metadata": {},
     "output_type": "execute_result"
    }
   ],
   "source": [
    "ours = df_copy[df_copy[\"Input.audio_url\"].str.contains(\"bjoernpl/ThesisSurveyFiles/blob/main/ours/\")]\n",
    "theirs = df_copy[df_copy[\"Input.audio_url\"].str.contains(\"DeNA/Face2Speech//blob/master/docs\")]\n",
    "both = pd.DataFrame({\n",
    "    \"ours\" : ours[\"naturalness\"].value_counts(),\n",
    "    \"theirs\" : theirs[\"naturalness\"].value_counts()\n",
    "}).sort_index()\n",
    "both"
   ]
  },
  {
   "cell_type": "markdown",
   "metadata": {},
   "source": [
    "## Calculate Mean and 95% confidence interval"
   ]
  },
  {
   "cell_type": "code",
   "execution_count": 16,
   "metadata": {},
   "outputs": [
    {
     "name": "stdout",
     "output_type": "stream",
     "text": [
      "Mean naturalness rating: 3.67 +- 0.07\n"
     ]
    }
   ],
   "source": [
    "m = ours[\"naturalness\"].mean()\n",
    "l,t = st.t.interval(alpha=0.95, df=len(ours)-1, loc=m, scale=st.sem(ours[\"naturalness\"])) \n",
    "\n",
    "print(f\"Mean naturalness rating: {float(m):.2f} +- {float(m-l):.2f}\")"
   ]
  },
  {
   "cell_type": "code",
   "execution_count": 15,
   "metadata": {},
   "outputs": [
    {
     "name": "stdout",
     "output_type": "stream",
     "text": [
      "Mean naturalness rating: 3.46 +- 0.08\n"
     ]
    }
   ],
   "source": [
    "m = theirs[\"naturalness\"].mean()\n",
    "l,t = st.t.interval(alpha=0.95, df=len(theirs)-1, loc=m, scale=st.sem(theirs[\"naturalness\"])) \n",
    "\n",
    "print(f\"Mean naturalness rating: {float(m):.2f} +- {float(m-l):.2f}\")"
   ]
  }
 ],
 "metadata": {
  "kernelspec": {
   "display_name": "esptest3",
   "language": "python",
   "name": "esptest3"
  },
  "language_info": {
   "codemirror_mode": {
    "name": "ipython",
    "version": 3
   },
   "file_extension": ".py",
   "mimetype": "text/x-python",
   "name": "python",
   "nbconvert_exporter": "python",
   "pygments_lexer": "ipython3",
   "version": "3.6.9"
  }
 },
 "nbformat": 4,
 "nbformat_minor": 4
}
