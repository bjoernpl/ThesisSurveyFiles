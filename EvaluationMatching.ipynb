{
 "cells": [
  {
   "cell_type": "code",
   "execution_count": 2,
   "metadata": {},
   "outputs": [],
   "source": [
    "import numpy as np\n",
    "import pandas as pd\n",
    "import scipy.stats as st\n",
    "import seaborn as sns "
   ]
  },
  {
   "cell_type": "code",
   "execution_count": 5,
   "metadata": {},
   "outputs": [],
   "source": [
    "df = pd.read_csv(\"matching_results.csv\")"
   ]
  },
  {
   "cell_type": "code",
   "execution_count": 20,
   "metadata": {},
   "outputs": [
    {
     "data": {
      "text/html": [
       "<div>\n",
       "<style scoped>\n",
       "    .dataframe tbody tr th:only-of-type {\n",
       "        vertical-align: middle;\n",
       "    }\n",
       "\n",
       "    .dataframe tbody tr th {\n",
       "        vertical-align: top;\n",
       "    }\n",
       "\n",
       "    .dataframe thead th {\n",
       "        text-align: right;\n",
       "    }\n",
       "</style>\n",
       "<table border=\"1\" class=\"dataframe\">\n",
       "  <thead>\n",
       "    <tr style=\"text-align: right;\">\n",
       "      <th></th>\n",
       "      <th>0</th>\n",
       "    </tr>\n",
       "  </thead>\n",
       "  <tbody>\n",
       "    <tr>\n",
       "      <th>1L6lSFiV4xo</th>\n",
       "      <td>2.700000</td>\n",
       "    </tr>\n",
       "    <tr>\n",
       "      <th>3OgsRa7VDtI</th>\n",
       "      <td>2.166667</td>\n",
       "    </tr>\n",
       "    <tr>\n",
       "      <th>8nt3edWLgIg</th>\n",
       "      <td>2.400000</td>\n",
       "    </tr>\n",
       "    <tr>\n",
       "      <th>9TPFLHvn024</th>\n",
       "      <td>2.333333</td>\n",
       "    </tr>\n",
       "    <tr>\n",
       "      <th>B8rmi95pYL0</th>\n",
       "      <td>2.533333</td>\n",
       "    </tr>\n",
       "    <tr>\n",
       "      <th>dYNc3P4jSt4</th>\n",
       "      <td>2.400000</td>\n",
       "    </tr>\n",
       "    <tr>\n",
       "      <th>BhMKmovNjvc</th>\n",
       "      <td>2.733333</td>\n",
       "    </tr>\n",
       "    <tr>\n",
       "      <th>FKxaL8Iau8Q</th>\n",
       "      <td>2.500000</td>\n",
       "    </tr>\n",
       "    <tr>\n",
       "      <th>E0oPnS7rUwE</th>\n",
       "      <td>2.366667</td>\n",
       "    </tr>\n",
       "    <tr>\n",
       "      <th>fTSXvLzNd0o</th>\n",
       "      <td>2.233333</td>\n",
       "    </tr>\n",
       "    <tr>\n",
       "      <th>HqekWfSJCSA</th>\n",
       "      <td>2.233333</td>\n",
       "    </tr>\n",
       "    <tr>\n",
       "      <th>Hj9oB4zpHww</th>\n",
       "      <td>2.400000</td>\n",
       "    </tr>\n",
       "    <tr>\n",
       "      <th>JFQLvbVJVMg</th>\n",
       "      <td>2.500000</td>\n",
       "    </tr>\n",
       "    <tr>\n",
       "      <th>LjAsM1vAhW0</th>\n",
       "      <td>2.233333</td>\n",
       "    </tr>\n",
       "    <tr>\n",
       "      <th>LujWrkYsl64</th>\n",
       "      <td>2.166667</td>\n",
       "    </tr>\n",
       "    <tr>\n",
       "      <th>mjDjbJJlqZ0</th>\n",
       "      <td>2.400000</td>\n",
       "    </tr>\n",
       "    <tr>\n",
       "      <th>QKHkSUiQboA</th>\n",
       "      <td>2.033333</td>\n",
       "    </tr>\n",
       "    <tr>\n",
       "      <th>P2AUat93a8Q</th>\n",
       "      <td>2.266667</td>\n",
       "    </tr>\n",
       "    <tr>\n",
       "      <th>shG0ezBeeJc</th>\n",
       "      <td>2.200000</td>\n",
       "    </tr>\n",
       "    <tr>\n",
       "      <th>PhVP1tNeGyY</th>\n",
       "      <td>2.233333</td>\n",
       "    </tr>\n",
       "  </tbody>\n",
       "</table>\n",
       "</div>"
      ],
      "text/plain": [
       "                    0\n",
       "1L6lSFiV4xo  2.700000\n",
       "3OgsRa7VDtI  2.166667\n",
       "8nt3edWLgIg  2.400000\n",
       "9TPFLHvn024  2.333333\n",
       "B8rmi95pYL0  2.533333\n",
       "dYNc3P4jSt4  2.400000\n",
       "BhMKmovNjvc  2.733333\n",
       "FKxaL8Iau8Q  2.500000\n",
       "E0oPnS7rUwE  2.366667\n",
       "fTSXvLzNd0o  2.233333\n",
       "HqekWfSJCSA  2.233333\n",
       "Hj9oB4zpHww  2.400000\n",
       "JFQLvbVJVMg  2.500000\n",
       "LjAsM1vAhW0  2.233333\n",
       "LujWrkYsl64  2.166667\n",
       "mjDjbJJlqZ0  2.400000\n",
       "QKHkSUiQboA  2.033333\n",
       "P2AUat93a8Q  2.266667\n",
       "shG0ezBeeJc  2.200000\n",
       "PhVP1tNeGyY  2.233333"
      ]
     },
     "execution_count": 20,
     "metadata": {},
     "output_type": "execute_result"
    }
   ],
   "source": [
    "means = df.mean()\n",
    "means_df = pd.DataFrame(means)\n",
    "means_df"
   ]
  },
  {
   "cell_type": "code",
   "execution_count": 22,
   "metadata": {},
   "outputs": [
    {
     "name": "stdout",
     "output_type": "stream",
     "text": [
      "0    2.351667\n",
      "dtype: float64\n",
      "0    0.083855\n",
      "dtype: float64\n",
      "0   -0.083855\n",
      "dtype: float64\n"
     ]
    }
   ],
   "source": [
    "m = means_df.mean()\n",
    "print(m)\n",
    "l,t = st.t.interval(alpha=0.95, df=len(means_df)-1, loc=means_df.mean(), scale=st.sem(means_df)) \n",
    "print(m-l)\n",
    "print(m-t)\n"
   ]
  },
  {
   "cell_type": "code",
   "execution_count": null,
   "metadata": {},
   "outputs": [],
   "source": []
  }
 ],
 "metadata": {
  "kernelspec": {
   "display_name": "esptest3",
   "language": "python",
   "name": "esptest3"
  },
  "language_info": {
   "codemirror_mode": {
    "name": "ipython",
    "version": 3
   },
   "file_extension": ".py",
   "mimetype": "text/x-python",
   "name": "python",
   "nbconvert_exporter": "python",
   "pygments_lexer": "ipython3",
   "version": "3.6.9"
  }
 },
 "nbformat": 4,
 "nbformat_minor": 4
}
