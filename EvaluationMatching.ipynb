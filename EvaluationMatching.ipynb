{
 "cells": [
  {
   "cell_type": "markdown",
   "metadata": {},
   "source": [
    "# Evaluation of Matching Survey"
   ]
  },
  {
   "cell_type": "code",
   "execution_count": 2,
   "metadata": {},
   "outputs": [],
   "source": [
    "import numpy as np\n",
    "import pandas as pd\n",
    "import scipy.stats as st\n",
    "import seaborn as sns "
   ]
  },
  {
   "cell_type": "code",
   "execution_count": 27,
   "metadata": {},
   "outputs": [],
   "source": [
    "df = pd.read_csv(\"matching_results.csv\")\n",
    "del df[\"Zeitstempel\"]"
   ]
  },
  {
   "cell_type": "markdown",
   "metadata": {},
   "source": [
    "## Show mean rating per participant"
   ]
  },
  {
   "cell_type": "code",
   "execution_count": 42,
   "metadata": {},
   "outputs": [
    {
     "data": {
      "text/html": [
       "<div>\n",
       "<style scoped>\n",
       "    .dataframe tbody tr th:only-of-type {\n",
       "        vertical-align: middle;\n",
       "    }\n",
       "\n",
       "    .dataframe tbody tr th {\n",
       "        vertical-align: top;\n",
       "    }\n",
       "\n",
       "    .dataframe thead th {\n",
       "        text-align: right;\n",
       "    }\n",
       "</style>\n",
       "<table border=\"1\" class=\"dataframe\">\n",
       "  <thead>\n",
       "    <tr style=\"text-align: right;\">\n",
       "      <th></th>\n",
       "      <th>0</th>\n",
       "      <th>1</th>\n",
       "      <th>2</th>\n",
       "      <th>3</th>\n",
       "      <th>4</th>\n",
       "      <th>5</th>\n",
       "      <th>6</th>\n",
       "      <th>7</th>\n",
       "      <th>8</th>\n",
       "      <th>9</th>\n",
       "      <th>...</th>\n",
       "      <th>20</th>\n",
       "      <th>21</th>\n",
       "      <th>22</th>\n",
       "      <th>23</th>\n",
       "      <th>24</th>\n",
       "      <th>25</th>\n",
       "      <th>26</th>\n",
       "      <th>27</th>\n",
       "      <th>28</th>\n",
       "      <th>29</th>\n",
       "    </tr>\n",
       "  </thead>\n",
       "  <tbody>\n",
       "    <tr>\n",
       "      <th>0</th>\n",
       "      <td>2.05</td>\n",
       "      <td>2.75</td>\n",
       "      <td>2.25</td>\n",
       "      <td>2.35</td>\n",
       "      <td>2.15</td>\n",
       "      <td>2.05</td>\n",
       "      <td>2.45</td>\n",
       "      <td>2.15</td>\n",
       "      <td>2.5</td>\n",
       "      <td>2.35</td>\n",
       "      <td>...</td>\n",
       "      <td>2.0</td>\n",
       "      <td>1.65</td>\n",
       "      <td>1.8</td>\n",
       "      <td>2.35</td>\n",
       "      <td>2.9</td>\n",
       "      <td>3.0</td>\n",
       "      <td>2.35</td>\n",
       "      <td>2.3</td>\n",
       "      <td>2.7</td>\n",
       "      <td>2.25</td>\n",
       "    </tr>\n",
       "  </tbody>\n",
       "</table>\n",
       "<p>1 rows × 30 columns</p>\n",
       "</div>"
      ],
      "text/plain": [
       "     0     1     2     3     4     5     6     7    8     9   ...   20    21  \\\n",
       "0  2.05  2.75  2.25  2.35  2.15  2.05  2.45  2.15  2.5  2.35  ...  2.0  1.65   \n",
       "\n",
       "    22    23   24   25    26   27   28    29  \n",
       "0  1.8  2.35  2.9  3.0  2.35  2.3  2.7  2.25  \n",
       "\n",
       "[1 rows x 30 columns]"
      ]
     },
     "execution_count": 42,
     "metadata": {},
     "output_type": "execute_result"
    }
   ],
   "source": [
    "pd.DataFrame(df.T.mean()).T"
   ]
  },
  {
   "cell_type": "markdown",
   "metadata": {},
   "source": [
    "## Show means per sample"
   ]
  },
  {
   "cell_type": "code",
   "execution_count": 43,
   "metadata": {},
   "outputs": [
    {
     "data": {
      "text/html": [
       "<div>\n",
       "<style scoped>\n",
       "    .dataframe tbody tr th:only-of-type {\n",
       "        vertical-align: middle;\n",
       "    }\n",
       "\n",
       "    .dataframe tbody tr th {\n",
       "        vertical-align: top;\n",
       "    }\n",
       "\n",
       "    .dataframe thead th {\n",
       "        text-align: right;\n",
       "    }\n",
       "</style>\n",
       "<table border=\"1\" class=\"dataframe\">\n",
       "  <thead>\n",
       "    <tr style=\"text-align: right;\">\n",
       "      <th></th>\n",
       "      <th>1L6lSFiV4xo</th>\n",
       "      <th>3OgsRa7VDtI</th>\n",
       "      <th>8nt3edWLgIg</th>\n",
       "      <th>9TPFLHvn024</th>\n",
       "      <th>B8rmi95pYL0</th>\n",
       "      <th>dYNc3P4jSt4</th>\n",
       "      <th>BhMKmovNjvc</th>\n",
       "      <th>FKxaL8Iau8Q</th>\n",
       "      <th>E0oPnS7rUwE</th>\n",
       "      <th>fTSXvLzNd0o</th>\n",
       "      <th>HqekWfSJCSA</th>\n",
       "      <th>Hj9oB4zpHww</th>\n",
       "      <th>JFQLvbVJVMg</th>\n",
       "      <th>LjAsM1vAhW0</th>\n",
       "      <th>LujWrkYsl64</th>\n",
       "      <th>mjDjbJJlqZ0</th>\n",
       "      <th>QKHkSUiQboA</th>\n",
       "      <th>P2AUat93a8Q</th>\n",
       "      <th>shG0ezBeeJc</th>\n",
       "      <th>PhVP1tNeGyY</th>\n",
       "    </tr>\n",
       "  </thead>\n",
       "  <tbody>\n",
       "    <tr>\n",
       "      <th>0</th>\n",
       "      <td>2.7</td>\n",
       "      <td>2.166667</td>\n",
       "      <td>2.4</td>\n",
       "      <td>2.333333</td>\n",
       "      <td>2.533333</td>\n",
       "      <td>2.4</td>\n",
       "      <td>2.733333</td>\n",
       "      <td>2.5</td>\n",
       "      <td>2.366667</td>\n",
       "      <td>2.233333</td>\n",
       "      <td>2.233333</td>\n",
       "      <td>2.4</td>\n",
       "      <td>2.5</td>\n",
       "      <td>2.233333</td>\n",
       "      <td>2.166667</td>\n",
       "      <td>2.4</td>\n",
       "      <td>2.033333</td>\n",
       "      <td>2.266667</td>\n",
       "      <td>2.2</td>\n",
       "      <td>2.233333</td>\n",
       "    </tr>\n",
       "  </tbody>\n",
       "</table>\n",
       "</div>"
      ],
      "text/plain": [
       "   1L6lSFiV4xo  3OgsRa7VDtI  8nt3edWLgIg  9TPFLHvn024  B8rmi95pYL0  \\\n",
       "0          2.7     2.166667          2.4     2.333333     2.533333   \n",
       "\n",
       "   dYNc3P4jSt4  BhMKmovNjvc  FKxaL8Iau8Q  E0oPnS7rUwE  fTSXvLzNd0o  \\\n",
       "0          2.4     2.733333          2.5     2.366667     2.233333   \n",
       "\n",
       "   HqekWfSJCSA  Hj9oB4zpHww  JFQLvbVJVMg  LjAsM1vAhW0  LujWrkYsl64  \\\n",
       "0     2.233333          2.4          2.5     2.233333     2.166667   \n",
       "\n",
       "   mjDjbJJlqZ0  QKHkSUiQboA  P2AUat93a8Q  shG0ezBeeJc  PhVP1tNeGyY  \n",
       "0          2.4     2.033333     2.266667          2.2     2.233333  "
      ]
     },
     "execution_count": 43,
     "metadata": {},
     "output_type": "execute_result"
    }
   ],
   "source": [
    "means_df = pd.DataFrame(df.mean())\n",
    "means_df.T"
   ]
  },
  {
   "cell_type": "markdown",
   "metadata": {},
   "source": [
    "## Calculate mean and 95% confidence interval"
   ]
  },
  {
   "cell_type": "code",
   "execution_count": 36,
   "metadata": {},
   "outputs": [
    {
     "name": "stdout",
     "output_type": "stream",
     "text": [
      "Mean rating: 2.35 +- 0.08\n"
     ]
    }
   ],
   "source": [
    "m = means_df.mean()\n",
    "l,t = st.t.interval(alpha=0.95, df=len(means_df)-1, loc=m, scale=st.sem(means_df)) \n",
    "\n",
    "print(f\"Mean rating: {float(m):.2f} +- {float(m-l):.2f}\")"
   ]
  }
 ],
 "metadata": {
  "kernelspec": {
   "display_name": "esptest3",
   "language": "python",
   "name": "esptest3"
  },
  "language_info": {
   "codemirror_mode": {
    "name": "ipython",
    "version": 3
   },
   "file_extension": ".py",
   "mimetype": "text/x-python",
   "name": "python",
   "nbconvert_exporter": "python",
   "pygments_lexer": "ipython3",
   "version": "3.6.9"
  }
 },
 "nbformat": 4,
 "nbformat_minor": 4
}
